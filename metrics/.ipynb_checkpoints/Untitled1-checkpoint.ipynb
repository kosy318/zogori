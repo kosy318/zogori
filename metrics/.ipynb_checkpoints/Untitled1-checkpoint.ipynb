{
 "cells": [
  {
   "cell_type": "code",
   "execution_count": null,
   "metadata": {},
   "outputs": [],
   "source": [
    "import cpp_complexity as cppcom\n",
    "import cpp_elegance_model as cppmodel\n",
    "import py_complexity as pycom\n",
    "import sys\n",
    "\n",
    "files = [\"1.cpp\",\"2.cpp\",\"3.cpp\"]\n",
    "language = \"c/c++\"\n",
    "\n",
    "complexity = {}\n",
    "if language == \"c/c++\":\n",
    "    # complexity = cppcom.cal_complexity(file_name)\n",
    "    # print(\"<tr><td><b>File Name</b></td><td><b>Elegance</b></td></tr>\")\n",
    "    print(\"asdfjlkadlkadjlksdfja;kfdja;dk\")\n",
    "    json_string = cppmodel.pred(files)\n",
    "    print(\"asdfjlkadlkadjlksdfja;kfdja;dk\")\n",
    "    print(json_string)\n",
    "if language == \"py\":\n",
    "    print(files[0])\n",
    "    complexity = pycom.cal_complexity(files[0])\n",
    "    print(complexity)\n",
    "\n",
    "    print(f'''<tr><td><b>Elegance</b></td><td><b>{complexity['elegance']}</b></td></tr>\n",
    "    <tr><td>Functions</td><td>{len(complexity['distinct_func'])}</td></tr>\n",
    "    <tr><td>total nb of Functions</td><td>{complexity['number_func']}</td></tr>\n",
    "    <tr><td>Variables</td><td>{len(complexity['distinct_var'])}</td></tr>\n",
    "    <tr><td>total nb of Variables</td><td>{complexity['number_var']}</td></tr>\n",
    "    <tr><td>Depth</td><td>{complexity['depth']}</td></tr>\n",
    "    <tr><td>LOC</td><td>{complexity['LOC']}</td></tr>''')\n"
   ]
  }
 ],
 "metadata": {
  "kernelspec": {
   "display_name": "Python 3",
   "language": "python",
   "name": "python3"
  },
  "language_info": {
   "codemirror_mode": {
    "name": "ipython",
    "version": 3
   },
   "file_extension": ".py",
   "mimetype": "text/x-python",
   "name": "python",
   "nbconvert_exporter": "python",
   "pygments_lexer": "ipython3",
   "version": "3.8.5"
  }
 },
 "nbformat": 4,
 "nbformat_minor": 4
}
